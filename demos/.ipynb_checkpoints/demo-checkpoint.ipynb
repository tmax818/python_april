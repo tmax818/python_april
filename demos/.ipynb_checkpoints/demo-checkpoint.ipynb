{
 "cells": [
  {
   "cell_type": "markdown",
   "id": "75fa49f7",
   "metadata": {},
   "source": [
    "# Basic Python"
   ]
  },
  {
   "cell_type": "markdown",
   "id": "96c95893",
   "metadata": {},
   "source": [
    "## syntax and code blocks"
   ]
  },
  {
   "cell_type": "code",
   "execution_count": 1,
   "id": "4f078349",
   "metadata": {},
   "outputs": [],
   "source": [
    "name = \"Maliq\""
   ]
  },
  {
   "cell_type": "code",
   "execution_count": 2,
   "id": "be0156c1",
   "metadata": {},
   "outputs": [
    {
     "data": {
      "text/plain": [
       "'Maliq'"
      ]
     },
     "execution_count": 2,
     "metadata": {},
     "output_type": "execute_result"
    }
   ],
   "source": [
    "name"
   ]
  },
  {
   "cell_type": "code",
   "execution_count": 3,
   "id": "e1860c87",
   "metadata": {},
   "outputs": [],
   "source": [
    "name = \"Carl\""
   ]
  },
  {
   "cell_type": "code",
   "execution_count": 4,
   "id": "c90a8bb3",
   "metadata": {},
   "outputs": [
    {
     "data": {
      "text/plain": [
       "'Carl'"
      ]
     },
     "execution_count": 4,
     "metadata": {},
     "output_type": "execute_result"
    }
   ],
   "source": [
    "name"
   ]
  },
  {
   "cell_type": "code",
   "execution_count": 5,
   "id": "113d4399",
   "metadata": {},
   "outputs": [],
   "source": [
    "count = 0"
   ]
  },
  {
   "cell_type": "code",
   "execution_count": 6,
   "id": "a39119eb",
   "metadata": {},
   "outputs": [
    {
     "name": "stdout",
     "output_type": "stream",
     "text": [
      "Carl\n",
      "Carl\n",
      "Carl\n",
      "Carl\n",
      "Carl\n",
      "Carl\n",
      "Carl\n",
      "Carl\n",
      "Carl\n",
      "Carl\n",
      "while loop is finished\n"
     ]
    }
   ],
   "source": [
    "while count < 10:\n",
    "    print(name)\n",
    "    count += 1\n",
    "print(\"while loop is finished\")"
   ]
  },
  {
   "cell_type": "code",
   "execution_count": 8,
   "id": "eda02665",
   "metadata": {},
   "outputs": [],
   "source": [
    "def my_funct():\n",
    "    print(\"hi mom\")"
   ]
  },
  {
   "cell_type": "code",
   "execution_count": 9,
   "id": "a20425e4",
   "metadata": {},
   "outputs": [
    {
     "name": "stdout",
     "output_type": "stream",
     "text": [
      "hi mom\n"
     ]
    }
   ],
   "source": [
    "my_funct()"
   ]
  },
  {
   "cell_type": "code",
   "execution_count": 26,
   "id": "47a693df",
   "metadata": {},
   "outputs": [
    {
     "ename": "TypeError",
     "evalue": "unsupported operand type(s) for -: 'str' and 'int'",
     "output_type": "error",
     "traceback": [
      "\u001b[1;31m---------------------------------------------------------------------------\u001b[0m",
      "\u001b[1;31mTypeError\u001b[0m                                 Traceback (most recent call last)",
      "Input \u001b[1;32mIn [26]\u001b[0m, in \u001b[0;36m<cell line: 1>\u001b[1;34m()\u001b[0m\n\u001b[1;32m----> 1\u001b[0m \u001b[38;5;124;43m'\u001b[39;49m\u001b[38;5;124;43m5\u001b[39;49m\u001b[38;5;124;43m'\u001b[39;49m\u001b[43m \u001b[49m\u001b[38;5;241;43m-\u001b[39;49m\u001b[43m \u001b[49m\u001b[38;5;241;43m5\u001b[39;49m\n",
      "\u001b[1;31mTypeError\u001b[0m: unsupported operand type(s) for -: 'str' and 'int'"
     ]
    }
   ],
   "source": [
    "'5' - 5"
   ]
  },
  {
   "cell_type": "markdown",
   "id": "6552f6fb",
   "metadata": {},
   "source": [
    "## math and logic"
   ]
  },
  {
   "cell_type": "code",
   "execution_count": 10,
   "id": "015a9fcd",
   "metadata": {},
   "outputs": [
    {
     "data": {
      "text/plain": [
       "4"
      ]
     },
     "execution_count": 10,
     "metadata": {},
     "output_type": "execute_result"
    }
   ],
   "source": [
    "2 + 2"
   ]
  },
  {
   "cell_type": "code",
   "execution_count": 11,
   "id": "4eb593d8",
   "metadata": {},
   "outputs": [
    {
     "data": {
      "text/plain": [
       "1.25"
      ]
     },
     "execution_count": 11,
     "metadata": {},
     "output_type": "execute_result"
    }
   ],
   "source": [
    "5/4"
   ]
  },
  {
   "cell_type": "code",
   "execution_count": 12,
   "id": "45ab9c41",
   "metadata": {},
   "outputs": [
    {
     "data": {
      "text/plain": [
       "1"
      ]
     },
     "execution_count": 12,
     "metadata": {},
     "output_type": "execute_result"
    }
   ],
   "source": [
    "5//4"
   ]
  },
  {
   "cell_type": "code",
   "execution_count": 13,
   "id": "0ee2a296",
   "metadata": {},
   "outputs": [
    {
     "data": {
      "text/plain": [
       "1"
      ]
     },
     "execution_count": 13,
     "metadata": {},
     "output_type": "execute_result"
    }
   ],
   "source": [
    "5 % 4"
   ]
  },
  {
   "cell_type": "code",
   "execution_count": 14,
   "id": "e691b554",
   "metadata": {},
   "outputs": [
    {
     "data": {
      "text/plain": [
       "42"
      ]
     },
     "execution_count": 14,
     "metadata": {},
     "output_type": "execute_result"
    }
   ],
   "source": [
    "6 * 7"
   ]
  },
  {
   "cell_type": "code",
   "execution_count": 15,
   "id": "9b74962b",
   "metadata": {},
   "outputs": [
    {
     "data": {
      "text/plain": [
       "0"
      ]
     },
     "execution_count": 15,
     "metadata": {},
     "output_type": "execute_result"
    }
   ],
   "source": [
    "75 % 5"
   ]
  },
  {
   "cell_type": "code",
   "execution_count": 24,
   "id": "616863d1",
   "metadata": {},
   "outputs": [
    {
     "data": {
      "text/plain": [
       "False"
      ]
     },
     "execution_count": 24,
     "metadata": {},
     "output_type": "execute_result"
    }
   ],
   "source": [
    "5 != 5"
   ]
  },
  {
   "cell_type": "markdown",
   "id": "fe562328",
   "metadata": {},
   "source": [
    "### Logic\n",
    "\n",
    "- `not` not \"Tyler has long black hair\"\n",
    "- `and` \"Tyler is bald\" and (not \"he is teaching JavaScript\")\n",
    "- `or` \"Tyler is bald\" or \"he is teaching Java\""
   ]
  },
  {
   "cell_type": "code",
   "execution_count": 22,
   "id": "78466b88",
   "metadata": {},
   "outputs": [
    {
     "data": {
      "text/plain": [
       "False"
      ]
     },
     "execution_count": 22,
     "metadata": {},
     "output_type": "execute_result"
    }
   ],
   "source": [
    "not True"
   ]
  },
  {
   "cell_type": "code",
   "execution_count": 18,
   "id": "b926cb4c",
   "metadata": {},
   "outputs": [
    {
     "data": {
      "text/plain": [
       "True"
      ]
     },
     "execution_count": 18,
     "metadata": {},
     "output_type": "execute_result"
    }
   ],
   "source": [
    "not False"
   ]
  },
  {
   "cell_type": "code",
   "execution_count": 20,
   "id": "7995a044",
   "metadata": {},
   "outputs": [
    {
     "data": {
      "text/plain": [
       "False"
      ]
     },
     "execution_count": 20,
     "metadata": {},
     "output_type": "execute_result"
    }
   ],
   "source": [
    "True and True"
   ]
  },
  {
   "cell_type": "code",
   "execution_count": 23,
   "id": "0b2ed619",
   "metadata": {},
   "outputs": [
    {
     "data": {
      "text/plain": [
       "True"
      ]
     },
     "execution_count": 23,
     "metadata": {},
     "output_type": "execute_result"
    }
   ],
   "source": [
    "(not False) and True"
   ]
  },
  {
   "cell_type": "code",
   "execution_count": 21,
   "id": "f44afecd",
   "metadata": {},
   "outputs": [
    {
     "data": {
      "text/plain": [
       "True"
      ]
     },
     "execution_count": 21,
     "metadata": {},
     "output_type": "execute_result"
    }
   ],
   "source": [
    "True or False"
   ]
  },
  {
   "cell_type": "markdown",
   "id": "fdb7d7cb",
   "metadata": {},
   "source": [
    "# Lecture Examples"
   ]
  },
  {
   "cell_type": "markdown",
   "id": "c440e1cd",
   "metadata": {},
   "source": [
    "## Data Types"
   ]
  },
  {
   "cell_type": "markdown",
   "id": "7bf1aa08",
   "metadata": {},
   "source": [
    "### primative"
   ]
  },
  {
   "cell_type": "code",
   "execution_count": 40,
   "id": "98cd3e94",
   "metadata": {},
   "outputs": [
    {
     "data": {
      "text/plain": [
       "int"
      ]
     },
     "execution_count": 40,
     "metadata": {},
     "output_type": "execute_result"
    }
   ],
   "source": [
    "int_number = 42\n",
    "int_number.__class__"
   ]
  },
  {
   "cell_type": "code",
   "execution_count": 41,
   "id": "73d9bdd9",
   "metadata": {},
   "outputs": [
    {
     "data": {
      "text/plain": [
       "float"
      ]
     },
     "execution_count": 41,
     "metadata": {},
     "output_type": "execute_result"
    }
   ],
   "source": [
    "float_number = 3.14\n",
    "float_number.__class__"
   ]
  },
  {
   "cell_type": "code",
   "execution_count": 42,
   "id": "ecd04b1f",
   "metadata": {},
   "outputs": [
    {
     "data": {
      "text/plain": [
       "bool"
      ]
     },
     "execution_count": 42,
     "metadata": {},
     "output_type": "execute_result"
    }
   ],
   "source": [
    "is_logged_in = True\n",
    "is_logged_in.__class__"
   ]
  },
  {
   "cell_type": "code",
   "execution_count": 43,
   "id": "cd93adeb",
   "metadata": {},
   "outputs": [
    {
     "data": {
      "text/plain": [
       "NoneType"
      ]
     },
     "execution_count": 43,
     "metadata": {},
     "output_type": "execute_result"
    }
   ],
   "source": [
    "checking_balance = None\n",
    "checking_balance.__class__"
   ]
  },
  {
   "cell_type": "code",
   "execution_count": 49,
   "id": "327e9dc8",
   "metadata": {},
   "outputs": [
    {
     "data": {
      "text/plain": [
       "str"
      ]
     },
     "execution_count": 49,
     "metadata": {},
     "output_type": "execute_result"
    }
   ],
   "source": [
    "name = \"Jenny\"\n",
    "name = 'Jenny'\n",
    "# name = \"\"\"\n",
    "# Hey\n",
    "# Jenny, don't change your number\n",
    "# I need to make you mine\n",
    "# Jenny, I call your number\n",
    "# 867-5309\"\"\"\n",
    "name.__class__"
   ]
  },
  {
   "cell_type": "code",
   "execution_count": 50,
   "id": "6ebbbc5a",
   "metadata": {},
   "outputs": [
    {
     "name": "stdout",
     "output_type": "stream",
     "text": [
      "Jenny\n"
     ]
    }
   ],
   "source": [
    "print(name)"
   ]
  },
  {
   "cell_type": "code",
   "execution_count": 48,
   "id": "a37d15d2",
   "metadata": {},
   "outputs": [
    {
     "data": {
      "text/plain": [
       "str"
      ]
     },
     "execution_count": 48,
     "metadata": {},
     "output_type": "execute_result"
    }
   ],
   "source": [
    "phone = \"867-5309\"\n",
    "# phone = 8675309\n",
    "phone.__class__"
   ]
  },
  {
   "cell_type": "code",
   "execution_count": 56,
   "id": "13892d72",
   "metadata": {},
   "outputs": [
    {
     "data": {
      "text/plain": [
       "'Jenny, I got your number: 867-5309'"
      ]
     },
     "execution_count": 56,
     "metadata": {},
     "output_type": "execute_result"
    }
   ],
   "source": [
    "\"%s, I got your number: %s\" % (name, phone)"
   ]
  },
  {
   "cell_type": "code",
   "execution_count": 57,
   "id": "e1cb29e2",
   "metadata": {},
   "outputs": [
    {
     "data": {
      "text/plain": [
       "'Jenny I got your number: 867-5309'"
      ]
     },
     "execution_count": 57,
     "metadata": {},
     "output_type": "execute_result"
    }
   ],
   "source": [
    "f'{name} I got your number: {phone}'"
   ]
  },
  {
   "cell_type": "markdown",
   "id": "b1519c1f",
   "metadata": {},
   "source": [
    "## Composite Types aka Data Structures"
   ]
  },
  {
   "cell_type": "markdown",
   "id": "38ab915c",
   "metadata": {},
   "source": [
    "## Lists aka arrays"
   ]
  },
  {
   "cell_type": "code",
   "execution_count": 27,
   "id": "1f996def",
   "metadata": {},
   "outputs": [],
   "source": [
    "fruits = ['apple', 'banana', 'strawberry']"
   ]
  },
  {
   "cell_type": "code",
   "execution_count": 28,
   "id": "29b0bcb1",
   "metadata": {},
   "outputs": [
    {
     "data": {
      "text/plain": [
       "['apple', 'banana', 'strawberry']"
      ]
     },
     "execution_count": 28,
     "metadata": {},
     "output_type": "execute_result"
    }
   ],
   "source": [
    "fruits"
   ]
  },
  {
   "cell_type": "code",
   "execution_count": 29,
   "id": "80338824",
   "metadata": {},
   "outputs": [],
   "source": [
    "fruits.insert(1, \"pineapple\")"
   ]
  },
  {
   "cell_type": "code",
   "execution_count": 30,
   "id": "8188a423",
   "metadata": {},
   "outputs": [
    {
     "data": {
      "text/plain": [
       "['apple', 'pineapple', 'banana', 'strawberry']"
      ]
     },
     "execution_count": 30,
     "metadata": {},
     "output_type": "execute_result"
    }
   ],
   "source": [
    "fruits"
   ]
  },
  {
   "cell_type": "code",
   "execution_count": 31,
   "id": "94679f26",
   "metadata": {},
   "outputs": [],
   "source": [
    "fruits.append(\"grapes\")"
   ]
  },
  {
   "cell_type": "code",
   "execution_count": 34,
   "id": "0fcc492b",
   "metadata": {},
   "outputs": [
    {
     "data": {
      "text/plain": [
       "'pineapple'"
      ]
     },
     "execution_count": 34,
     "metadata": {},
     "output_type": "execute_result"
    }
   ],
   "source": [
    "fruits.pop(1)"
   ]
  },
  {
   "cell_type": "code",
   "execution_count": 36,
   "id": "1255b9f8",
   "metadata": {},
   "outputs": [],
   "source": [
    "person_list = ['Tyler', 39, True]"
   ]
  },
  {
   "cell_type": "code",
   "execution_count": 37,
   "id": "2b11a1cd",
   "metadata": {},
   "outputs": [
    {
     "data": {
      "text/plain": [
       "'Tyler'"
      ]
     },
     "execution_count": 37,
     "metadata": {},
     "output_type": "execute_result"
    }
   ],
   "source": [
    "person_list[0]"
   ]
  },
  {
   "cell_type": "markdown",
   "id": "68d4253e",
   "metadata": {},
   "source": [
    "### Dictionaries"
   ]
  },
  {
   "cell_type": "code",
   "execution_count": 35,
   "id": "942295b7",
   "metadata": {},
   "outputs": [],
   "source": [
    "person_dict = {'name': 'Tyler', 'age': 39, 'is_admin': True}"
   ]
  },
  {
   "cell_type": "code",
   "execution_count": 38,
   "id": "9987bc53",
   "metadata": {},
   "outputs": [
    {
     "data": {
      "text/plain": [
       "'Tyler'"
      ]
     },
     "execution_count": 38,
     "metadata": {},
     "output_type": "execute_result"
    }
   ],
   "source": [
    "person_dict['name']"
   ]
  },
  {
   "cell_type": "code",
   "execution_count": 39,
   "id": "93ffc0dc",
   "metadata": {},
   "outputs": [
    {
     "data": {
      "text/plain": [
       "39"
      ]
     },
     "execution_count": 39,
     "metadata": {},
     "output_type": "execute_result"
    }
   ],
   "source": [
    "person_dict['age']"
   ]
  },
  {
   "cell_type": "code",
   "execution_count": 58,
   "id": "e38020ed",
   "metadata": {},
   "outputs": [
    {
     "name": "stdout",
     "output_type": "stream",
     "text": [
      "{'name': 'Tyler', 'age': 39, 'is_admin': True}\n"
     ]
    }
   ],
   "source": [
    "print(person_dict)"
   ]
  },
  {
   "cell_type": "code",
   "execution_count": 59,
   "id": "4f81878a",
   "metadata": {},
   "outputs": [],
   "source": [
    "person_dict['hobbies'] = []"
   ]
  },
  {
   "cell_type": "code",
   "execution_count": 60,
   "id": "26c4103d",
   "metadata": {},
   "outputs": [
    {
     "data": {
      "text/plain": [
       "{'name': 'Tyler', 'age': 39, 'is_admin': True, 'hobbies': []}"
      ]
     },
     "execution_count": 60,
     "metadata": {},
     "output_type": "execute_result"
    }
   ],
   "source": [
    "person_dict"
   ]
  },
  {
   "cell_type": "code",
   "execution_count": 64,
   "id": "52839e52",
   "metadata": {},
   "outputs": [],
   "source": [
    "person_dict['hobbies'] = ['sleeping']"
   ]
  },
  {
   "cell_type": "code",
   "execution_count": 65,
   "id": "8ade9362",
   "metadata": {},
   "outputs": [
    {
     "data": {
      "text/plain": [
       "{'name': 'Tyler', 'age': 39, 'is_admin': True, 'hobbies': ['sleeping']}"
      ]
     },
     "execution_count": 65,
     "metadata": {},
     "output_type": "execute_result"
    }
   ],
   "source": [
    "person_dict"
   ]
  },
  {
   "cell_type": "code",
   "execution_count": 66,
   "id": "bc26411c",
   "metadata": {},
   "outputs": [],
   "source": [
    "person_dict['hobbies'] = ['coding']"
   ]
  },
  {
   "cell_type": "code",
   "execution_count": 67,
   "id": "a2916e23",
   "metadata": {},
   "outputs": [
    {
     "data": {
      "text/plain": [
       "{'name': 'Tyler', 'age': 39, 'is_admin': True, 'hobbies': ['coding']}"
      ]
     },
     "execution_count": 67,
     "metadata": {},
     "output_type": "execute_result"
    }
   ],
   "source": [
    "person_dict"
   ]
  },
  {
   "cell_type": "code",
   "execution_count": 71,
   "id": "553d76ac",
   "metadata": {},
   "outputs": [],
   "source": [
    "person_dict['hobbies'].insert(0,'sleeping')"
   ]
  },
  {
   "cell_type": "code",
   "execution_count": 72,
   "id": "2b184c7d",
   "metadata": {},
   "outputs": [
    {
     "data": {
      "text/plain": [
       "{'name': 'Tyler',\n",
       " 'age': 39,\n",
       " 'is_admin': True,\n",
       " 'hobbies': ['sleeping', 'coding', 'sleeping']}"
      ]
     },
     "execution_count": 72,
     "metadata": {},
     "output_type": "execute_result"
    }
   ],
   "source": [
    "person_dict"
   ]
  },
  {
   "cell_type": "code",
   "execution_count": 73,
   "id": "844e6cc4",
   "metadata": {},
   "outputs": [],
   "source": [
    "person_dict['ssn'] = 234567890"
   ]
  },
  {
   "cell_type": "code",
   "execution_count": 74,
   "id": "c8d822dc",
   "metadata": {},
   "outputs": [
    {
     "data": {
      "text/plain": [
       "{'name': 'Tyler',\n",
       " 'age': 39,\n",
       " 'is_admin': True,\n",
       " 'hobbies': ['sleeping', 'coding', 'sleeping'],\n",
       " 'ssn': 234567890}"
      ]
     },
     "execution_count": 74,
     "metadata": {},
     "output_type": "execute_result"
    }
   ],
   "source": [
    "person_dict"
   ]
  },
  {
   "cell_type": "code",
   "execution_count": null,
   "id": "7d10c7f4",
   "metadata": {},
   "outputs": [],
   "source": []
  },
  {
   "cell_type": "markdown",
   "id": "7604c8c9",
   "metadata": {},
   "source": [
    "## Lists of Dictionaries"
   ]
  },
  {
   "cell_type": "code",
   "execution_count": 75,
   "id": "cc366db8",
   "metadata": {},
   "outputs": [
    {
     "data": {
      "text/plain": [
       "25"
      ]
     },
     "execution_count": 75,
     "metadata": {},
     "output_type": "execute_result"
    }
   ],
   "source": [
    "person_list = [\n",
    "{'name': 'Joan', 'age': 21, 'is_admin': True},\n",
    "{'name': 'Gary', 'age': 25, 'is_admin': False},\n",
    "{'name': 'Malo', 'age': 21, 'is_admin': True}\n",
    "]\n",
    "person_list[1][\"age\"]"
   ]
  },
  {
   "cell_type": "code",
   "execution_count": null,
   "id": "46af8e69",
   "metadata": {},
   "outputs": [],
   "source": []
  },
  {
   "cell_type": "code",
   "execution_count": null,
   "id": "9fc6e6de",
   "metadata": {},
   "outputs": [],
   "source": []
  },
  {
   "cell_type": "code",
   "execution_count": null,
   "id": "471ebb71",
   "metadata": {},
   "outputs": [],
   "source": []
  },
  {
   "cell_type": "code",
   "execution_count": null,
   "id": "5d8e9abe",
   "metadata": {},
   "outputs": [],
   "source": []
  },
  {
   "cell_type": "code",
   "execution_count": null,
   "id": "96e526cb",
   "metadata": {},
   "outputs": [],
   "source": []
  },
  {
   "cell_type": "code",
   "execution_count": null,
   "id": "ab8fc82e",
   "metadata": {},
   "outputs": [],
   "source": []
  },
  {
   "cell_type": "code",
   "execution_count": null,
   "id": "7e49777d",
   "metadata": {},
   "outputs": [],
   "source": []
  },
  {
   "cell_type": "code",
   "execution_count": 82,
   "id": "448b220a",
   "metadata": {},
   "outputs": [],
   "source": [
    "name = \"Dan\""
   ]
  },
  {
   "cell_type": "code",
   "execution_count": 83,
   "id": "0ef955f4",
   "metadata": {},
   "outputs": [
    {
     "name": "stdout",
     "output_type": "stream",
     "text": [
      "the name is Dan\n"
     ]
    }
   ],
   "source": [
    "\n",
    "if name == \"Mike\":\n",
    "    print(\"the condition is met!\")\n",
    "elif name == \"Dan\":\n",
    "    print(f\"the name is {name}\")\n",
    "    print(\"Dan is the man!!!\")\n",
    "else:\n",
    "    print(\"that's not the name\")\n",
    "    "
   ]
  },
  {
   "cell_type": "code",
   "execution_count": null,
   "id": "93b65101",
   "metadata": {},
   "outputs": [],
   "source": [
    "condition = False\n",
    "if condition:\n",
    "  print(\"the condition is met!\")\n",
    "else:\n",
    "  print(\"the condition is NOT met!\")"
   ]
  },
  {
   "cell_type": "code",
   "execution_count": null,
   "id": "ab42a6a3",
   "metadata": {},
   "outputs": [],
   "source": [
    "condition = True\n",
    "if condition:\n",
    "  print(\"the condition is met!\")\n",
    "else:\n",
    "  print(\"the condition is NOT met!\")\n",
    "print(\"This is outside the code block!!!\")"
   ]
  },
  {
   "cell_type": "code",
   "execution_count": null,
   "id": "e0245610",
   "metadata": {},
   "outputs": [],
   "source": [
    "condition = False\n",
    "conditionTwo = True\n",
    "if condition:\n",
    "  print(\"the condition is met!\")\n",
    "elif conditionTwo:\n",
    "  print(\"the second condition is met!\")\n",
    "else:\n",
    "  print(\"the condition is NOT met!\")\n",
    "print(\"This is outside the code block!!!\")"
   ]
  },
  {
   "cell_type": "markdown",
   "id": "f317c0a4",
   "metadata": {},
   "source": [
    "## loops\n",
    "\n",
    "- `for`\n",
    "- `while`"
   ]
  },
  {
   "cell_type": "markdown",
   "id": "73f819ef",
   "metadata": {},
   "source": [
    "### `for`\n",
    "1. can be used to do something a certain number of times\n",
    "1.  can be used to iterate over a data structure"
   ]
  },
  {
   "cell_type": "code",
   "execution_count": null,
   "id": "5b3679a4",
   "metadata": {},
   "outputs": [],
   "source": [
    "#1\n",
    "\n",
    "for i in range(40):\n",
    "    print(i, f\"I've done this {i} times!!\")"
   ]
  },
  {
   "cell_type": "markdown",
   "id": "3d548cfa",
   "metadata": {},
   "source": [
    "## Challenge: Print the sum of all integers from 0 to some number n."
   ]
  },
  {
   "cell_type": "code",
   "execution_count": null,
   "id": "49528d6b",
   "metadata": {},
   "outputs": [],
   "source": [
    "def print_ints_to_n(n):\n",
    "    pass"
   ]
  },
  {
   "cell_type": "code",
   "execution_count": null,
   "id": "3b8f71a6",
   "metadata": {},
   "outputs": [],
   "source": []
  }
 ],
 "metadata": {
  "kernelspec": {
   "display_name": "Python 3 (ipykernel)",
   "language": "python",
   "name": "python3"
  },
  "language_info": {
   "codemirror_mode": {
    "name": "ipython",
    "version": 3
   },
   "file_extension": ".py",
   "mimetype": "text/x-python",
   "name": "python",
   "nbconvert_exporter": "python",
   "pygments_lexer": "ipython3",
   "version": "3.10.2"
  },
  "vscode": {
   "interpreter": {
    "hash": "b7e99664f29507c66851b6189dd7467319d2fd47b181a28d6f5cf7e8ffa5cb19"
   }
  }
 },
 "nbformat": 4,
 "nbformat_minor": 5
}
