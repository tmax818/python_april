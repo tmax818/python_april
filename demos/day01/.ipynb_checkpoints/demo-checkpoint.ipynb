{
 "cells": [
  {
   "cell_type": "markdown",
   "id": "75fa49f7",
   "metadata": {},
   "source": [
    "# Basic Python"
   ]
  },
  {
   "cell_type": "markdown",
   "id": "96c95893",
   "metadata": {},
   "source": [
    "## syntax and code blocks"
   ]
  },
  {
   "cell_type": "code",
   "execution_count": 1,
   "id": "4f078349",
   "metadata": {},
   "outputs": [],
   "source": [
    "name = \"Maliq\""
   ]
  },
  {
   "cell_type": "code",
   "execution_count": 2,
   "id": "be0156c1",
   "metadata": {},
   "outputs": [
    {
     "data": {
      "text/plain": [
       "'Maliq'"
      ]
     },
     "execution_count": 2,
     "metadata": {},
     "output_type": "execute_result"
    }
   ],
   "source": [
    "name"
   ]
  },
  {
   "cell_type": "code",
   "execution_count": 3,
   "id": "e1860c87",
   "metadata": {},
   "outputs": [],
   "source": [
    "name = \"Carl\""
   ]
  },
  {
   "cell_type": "code",
   "execution_count": 4,
   "id": "c90a8bb3",
   "metadata": {},
   "outputs": [
    {
     "data": {
      "text/plain": [
       "'Carl'"
      ]
     },
     "execution_count": 4,
     "metadata": {},
     "output_type": "execute_result"
    }
   ],
   "source": [
    "name"
   ]
  },
  {
   "cell_type": "code",
   "execution_count": 5,
   "id": "113d4399",
   "metadata": {},
   "outputs": [],
   "source": [
    "count = 0"
   ]
  },
  {
   "cell_type": "code",
   "execution_count": 6,
   "id": "a39119eb",
   "metadata": {},
   "outputs": [
    {
     "name": "stdout",
     "output_type": "stream",
     "text": [
      "Carl\n",
      "Carl\n",
      "Carl\n",
      "Carl\n",
      "Carl\n",
      "Carl\n",
      "Carl\n",
      "Carl\n",
      "Carl\n",
      "Carl\n",
      "while loop is finished\n"
     ]
    }
   ],
   "source": [
    "while count < 10:\n",
    "    print(name)\n",
    "    count += 1\n",
    "print(\"while loop is finished\")"
   ]
  },
  {
   "cell_type": "code",
   "execution_count": 8,
   "id": "eda02665",
   "metadata": {},
   "outputs": [],
   "source": [
    "def my_funct():\n",
    "    print(\"hi mom\")"
   ]
  },
  {
   "cell_type": "code",
   "execution_count": 9,
   "id": "a20425e4",
   "metadata": {},
   "outputs": [
    {
     "name": "stdout",
     "output_type": "stream",
     "text": [
      "hi mom\n"
     ]
    }
   ],
   "source": [
    "my_funct()"
   ]
  },
  {
   "cell_type": "code",
   "execution_count": 26,
   "id": "47a693df",
   "metadata": {},
   "outputs": [
    {
     "ename": "TypeError",
     "evalue": "unsupported operand type(s) for -: 'str' and 'int'",
     "output_type": "error",
     "traceback": [
      "\u001b[1;31m---------------------------------------------------------------------------\u001b[0m",
      "\u001b[1;31mTypeError\u001b[0m                                 Traceback (most recent call last)",
      "Input \u001b[1;32mIn [26]\u001b[0m, in \u001b[0;36m<cell line: 1>\u001b[1;34m()\u001b[0m\n\u001b[1;32m----> 1\u001b[0m \u001b[38;5;124;43m'\u001b[39;49m\u001b[38;5;124;43m5\u001b[39;49m\u001b[38;5;124;43m'\u001b[39;49m\u001b[43m \u001b[49m\u001b[38;5;241;43m-\u001b[39;49m\u001b[43m \u001b[49m\u001b[38;5;241;43m5\u001b[39;49m\n",
      "\u001b[1;31mTypeError\u001b[0m: unsupported operand type(s) for -: 'str' and 'int'"
     ]
    }
   ],
   "source": [
    "'5' - 5"
   ]
  },
  {
   "cell_type": "markdown",
   "id": "6552f6fb",
   "metadata": {},
   "source": [
    "## math and logic"
   ]
  },
  {
   "cell_type": "code",
   "execution_count": 10,
   "id": "015a9fcd",
   "metadata": {},
   "outputs": [
    {
     "data": {
      "text/plain": [
       "4"
      ]
     },
     "execution_count": 10,
     "metadata": {},
     "output_type": "execute_result"
    }
   ],
   "source": [
    "2 + 2"
   ]
  },
  {
   "cell_type": "code",
   "execution_count": 11,
   "id": "4eb593d8",
   "metadata": {},
   "outputs": [
    {
     "data": {
      "text/plain": [
       "1.25"
      ]
     },
     "execution_count": 11,
     "metadata": {},
     "output_type": "execute_result"
    }
   ],
   "source": [
    "5/4"
   ]
  },
  {
   "cell_type": "code",
   "execution_count": 12,
   "id": "45ab9c41",
   "metadata": {},
   "outputs": [
    {
     "data": {
      "text/plain": [
       "1"
      ]
     },
     "execution_count": 12,
     "metadata": {},
     "output_type": "execute_result"
    }
   ],
   "source": [
    "5//4"
   ]
  },
  {
   "cell_type": "code",
   "execution_count": 13,
   "id": "0ee2a296",
   "metadata": {},
   "outputs": [
    {
     "data": {
      "text/plain": [
       "1"
      ]
     },
     "execution_count": 13,
     "metadata": {},
     "output_type": "execute_result"
    }
   ],
   "source": [
    "5 % 4"
   ]
  },
  {
   "cell_type": "code",
   "execution_count": 14,
   "id": "e691b554",
   "metadata": {},
   "outputs": [
    {
     "data": {
      "text/plain": [
       "42"
      ]
     },
     "execution_count": 14,
     "metadata": {},
     "output_type": "execute_result"
    }
   ],
   "source": [
    "6 * 7"
   ]
  },
  {
   "cell_type": "code",
   "execution_count": 15,
   "id": "9b74962b",
   "metadata": {},
   "outputs": [
    {
     "data": {
      "text/plain": [
       "0"
      ]
     },
     "execution_count": 15,
     "metadata": {},
     "output_type": "execute_result"
    }
   ],
   "source": [
    "75 % 5"
   ]
  },
  {
   "cell_type": "code",
   "execution_count": 24,
   "id": "a97f1d68",
   "metadata": {},
   "outputs": [
    {
     "data": {
      "text/plain": [
       "False"
      ]
     },
     "execution_count": 24,
     "metadata": {},
     "output_type": "execute_result"
    }
   ],
   "source": [
    "5 != 5"
   ]
  },
  {
   "cell_type": "markdown",
   "id": "fe562328",
   "metadata": {},
   "source": [
    "### Logic\n",
    "\n",
    "- `not` not \"Tyler has long black hair\"\n",
    "- `and` \"Tyler is bald\" and (not \"he is teaching JavaScript\")\n",
    "- `or` \"Tyler is bald\" or \"he is teaching Java\""
   ]
  },
  {
   "cell_type": "code",
   "execution_count": 22,
   "id": "78466b88",
   "metadata": {},
   "outputs": [
    {
     "data": {
      "text/plain": [
       "False"
      ]
     },
     "execution_count": 22,
     "metadata": {},
     "output_type": "execute_result"
    }
   ],
   "source": [
    "not True"
   ]
  },
  {
   "cell_type": "code",
   "execution_count": 18,
   "id": "b926cb4c",
   "metadata": {},
   "outputs": [
    {
     "data": {
      "text/plain": [
       "True"
      ]
     },
     "execution_count": 18,
     "metadata": {},
     "output_type": "execute_result"
    }
   ],
   "source": [
    "not False"
   ]
  },
  {
   "cell_type": "code",
   "execution_count": 20,
   "id": "7995a044",
   "metadata": {},
   "outputs": [
    {
     "data": {
      "text/plain": [
       "False"
      ]
     },
     "execution_count": 20,
     "metadata": {},
     "output_type": "execute_result"
    }
   ],
   "source": [
    "True and True"
   ]
  },
  {
   "cell_type": "code",
   "execution_count": 23,
   "id": "0b2ed619",
   "metadata": {},
   "outputs": [
    {
     "data": {
      "text/plain": [
       "True"
      ]
     },
     "execution_count": 23,
     "metadata": {},
     "output_type": "execute_result"
    }
   ],
   "source": [
    "(not False) and True"
   ]
  },
  {
   "cell_type": "code",
   "execution_count": 21,
   "id": "f44afecd",
   "metadata": {},
   "outputs": [
    {
     "data": {
      "text/plain": [
       "True"
      ]
     },
     "execution_count": 21,
     "metadata": {},
     "output_type": "execute_result"
    }
   ],
   "source": [
    "True or False"
   ]
  },
  {
   "cell_type": "markdown",
   "id": "fdb7d7cb",
   "metadata": {},
   "source": [
    "# Lecture Examples"
   ]
  },
  {
   "cell_type": "markdown",
   "id": "c440e1cd",
   "metadata": {},
   "source": [
    "## Data Types"
   ]
  },
  {
   "cell_type": "markdown",
   "id": "7bf1aa08",
   "metadata": {},
   "source": [
    "### primative"
   ]
  },
  {
   "cell_type": "code",
   "execution_count": 40,
   "id": "98cd3e94",
   "metadata": {},
   "outputs": [
    {
     "data": {
      "text/plain": [
       "int"
      ]
     },
     "execution_count": 40,
     "metadata": {},
     "output_type": "execute_result"
    }
   ],
   "source": [
    "int_number = 42\n",
    "int_number.__class__"
   ]
  },
  {
   "cell_type": "code",
   "execution_count": 41,
   "id": "73d9bdd9",
   "metadata": {},
   "outputs": [
    {
     "data": {
      "text/plain": [
       "float"
      ]
     },
     "execution_count": 41,
     "metadata": {},
     "output_type": "execute_result"
    }
   ],
   "source": [
    "float_number = 3.14\n",
    "float_number.__class__"
   ]
  },
  {
   "cell_type": "code",
   "execution_count": 42,
   "id": "ecd04b1f",
   "metadata": {},
   "outputs": [
    {
     "data": {
      "text/plain": [
       "bool"
      ]
     },
     "execution_count": 42,
     "metadata": {},
     "output_type": "execute_result"
    }
   ],
   "source": [
    "is_logged_in = True\n",
    "is_logged_in.__class__"
   ]
  },
  {
   "cell_type": "code",
   "execution_count": 43,
   "id": "cd93adeb",
   "metadata": {},
   "outputs": [
    {
     "data": {
      "text/plain": [
       "NoneType"
      ]
     },
     "execution_count": 43,
     "metadata": {},
     "output_type": "execute_result"
    }
   ],
   "source": [
    "checking_balance = None\n",
    "checking_balance.__class__"
   ]
  },
  {
   "cell_type": "code",
   "execution_count": 49,
   "id": "327e9dc8",
   "metadata": {},
   "outputs": [
    {
     "data": {
      "text/plain": [
       "str"
      ]
     },
     "execution_count": 49,
     "metadata": {},
     "output_type": "execute_result"
    }
   ],
   "source": [
    "name = \"Jenny\"\n",
    "name = 'Jenny'\n",
    "# name = \"\"\"\n",
    "# Hey\n",
    "# Jenny, don't change your number\n",
    "# I need to make you mine\n",
    "# Jenny, I call your number\n",
    "# 867-5309\"\"\"\n",
    "name.__class__"
   ]
  },
  {
   "cell_type": "code",
   "execution_count": 50,
   "id": "d1885910",
   "metadata": {},
   "outputs": [
    {
     "name": "stdout",
     "output_type": "stream",
     "text": [
      "Jenny\n"
     ]
    }
   ],
   "source": [
    "print(name)"
   ]
  },
  {
   "cell_type": "code",
   "execution_count": 48,
   "id": "a37d15d2",
   "metadata": {},
   "outputs": [
    {
     "data": {
      "text/plain": [
       "str"
      ]
     },
     "execution_count": 48,
     "metadata": {},
     "output_type": "execute_result"
    }
   ],
   "source": [
    "phone = \"867-5309\"\n",
    "# phone = 8675309\n",
    "phone.__class__"
   ]
  },
  {
   "cell_type": "code",
   "execution_count": 56,
   "id": "13892d72",
   "metadata": {},
   "outputs": [
    {
     "data": {
      "text/plain": [
       "'Jenny, I got your number: 867-5309'"
      ]
     },
     "execution_count": 56,
     "metadata": {},
     "output_type": "execute_result"
    }
   ],
   "source": [
    "\"%s, I got your number: %s\" % (name, phone)"
   ]
  },
  {
   "cell_type": "code",
   "execution_count": 57,
   "id": "a6fb8b3e",
   "metadata": {},
   "outputs": [
    {
     "data": {
      "text/plain": [
       "'Jenny I got your number: 867-5309'"
      ]
     },
     "execution_count": 57,
     "metadata": {},
     "output_type": "execute_result"
    }
   ],
   "source": [
    "f'{name} I got your number: {phone}'"
   ]
  },
  {
   "cell_type": "markdown",
   "id": "b1519c1f",
   "metadata": {},
   "source": [
    "## Composite Types aka Data Structures"
   ]
  },
  {
   "cell_type": "markdown",
   "id": "38ab915c",
   "metadata": {},
   "source": [
    "## Lists aka arrays"
   ]
  },
  {
   "cell_type": "code",
   "execution_count": 27,
   "id": "1f996def",
   "metadata": {},
   "outputs": [],
   "source": [
    "fruits = ['apple', 'banana', 'strawberry']"
   ]
  },
  {
   "cell_type": "code",
   "execution_count": 28,
   "id": "882caea6",
   "metadata": {},
   "outputs": [
    {
     "data": {
      "text/plain": [
       "['apple', 'banana', 'strawberry']"
      ]
     },
     "execution_count": 28,
     "metadata": {},
     "output_type": "execute_result"
    }
   ],
   "source": [
    "fruits"
   ]
  },
  {
   "cell_type": "code",
   "execution_count": 29,
   "id": "43c1cd97",
   "metadata": {},
   "outputs": [],
   "source": [
    "fruits.insert(1, \"pineapple\")"
   ]
  },
  {
   "cell_type": "code",
   "execution_count": 30,
   "id": "dcd89ebe",
   "metadata": {},
   "outputs": [
    {
     "data": {
      "text/plain": [
       "['apple', 'pineapple', 'banana', 'strawberry']"
      ]
     },
     "execution_count": 30,
     "metadata": {},
     "output_type": "execute_result"
    }
   ],
   "source": [
    "fruits"
   ]
  },
  {
   "cell_type": "code",
   "execution_count": 31,
   "id": "89b73457",
   "metadata": {},
   "outputs": [],
   "source": [
    "fruits.append(\"grapes\")"
   ]
  },
  {
   "cell_type": "code",
   "execution_count": 34,
   "id": "3b336642",
   "metadata": {},
   "outputs": [
    {
     "data": {
      "text/plain": [
       "'pineapple'"
      ]
     },
     "execution_count": 34,
     "metadata": {},
     "output_type": "execute_result"
    }
   ],
   "source": [
    "fruits.pop(1)"
   ]
  },
  {
   "cell_type": "code",
   "execution_count": 36,
   "id": "1255b9f8",
   "metadata": {},
   "outputs": [],
   "source": [
    "person_list = ['Tyler', 39, True]"
   ]
  },
  {
   "cell_type": "code",
   "execution_count": 37,
   "id": "18012926",
   "metadata": {},
   "outputs": [
    {
     "data": {
      "text/plain": [
       "'Tyler'"
      ]
     },
     "execution_count": 37,
     "metadata": {},
     "output_type": "execute_result"
    }
   ],
   "source": [
    "person_list[0]"
   ]
  },
  {
   "cell_type": "markdown",
   "id": "68d4253e",
   "metadata": {},
   "source": [
    "### Dictionaries"
   ]
  },
  {
   "cell_type": "code",
   "execution_count": 35,
   "id": "942295b7",
   "metadata": {},
   "outputs": [],
   "source": [
    "person_dict = {'name': 'Tyler', 'age': 39, 'is_admin': True}"
   ]
  },
  {
   "cell_type": "code",
   "execution_count": 38,
   "id": "9987bc53",
   "metadata": {},
   "outputs": [
    {
     "data": {
      "text/plain": [
       "'Tyler'"
      ]
     },
     "execution_count": 38,
     "metadata": {},
     "output_type": "execute_result"
    }
   ],
   "source": [
    "person_dict['name']"
   ]
  },
  {
   "cell_type": "code",
   "execution_count": 39,
   "id": "93ffc0dc",
   "metadata": {},
   "outputs": [
    {
     "data": {
      "text/plain": [
       "39"
      ]
     },
     "execution_count": 39,
     "metadata": {},
     "output_type": "execute_result"
    }
   ],
   "source": [
    "person_dict['age']"
   ]
  },
  {
   "cell_type": "code",
   "execution_count": 58,
   "id": "e38020ed",
   "metadata": {},
   "outputs": [
    {
     "name": "stdout",
     "output_type": "stream",
     "text": [
      "{'name': 'Tyler', 'age': 39, 'is_admin': True}\n"
     ]
    }
   ],
   "source": [
    "print(person_dict)"
   ]
  },
  {
   "cell_type": "code",
   "execution_count": 59,
   "id": "4f81878a",
   "metadata": {},
   "outputs": [],
   "source": [
    "person_dict['hobbies'] = []"
   ]
  },
  {
   "cell_type": "code",
   "execution_count": 60,
   "id": "ae3a7978",
   "metadata": {},
   "outputs": [
    {
     "data": {
      "text/plain": [
       "{'name': 'Tyler', 'age': 39, 'is_admin': True, 'hobbies': []}"
      ]
     },
     "execution_count": 60,
     "metadata": {},
     "output_type": "execute_result"
    }
   ],
   "source": [
    "person_dict"
   ]
  },
  {
   "cell_type": "code",
   "execution_count": 64,
   "id": "ff843cbb",
   "metadata": {},
   "outputs": [],
   "source": [
    "person_dict['hobbies'] = ['sleeping']"
   ]
  },
  {
   "cell_type": "code",
   "execution_count": 65,
   "id": "671b998a",
   "metadata": {},
   "outputs": [
    {
     "data": {
      "text/plain": [
       "{'name': 'Tyler', 'age': 39, 'is_admin': True, 'hobbies': ['sleeping']}"
      ]
     },
     "execution_count": 65,
     "metadata": {},
     "output_type": "execute_result"
    }
   ],
   "source": [
    "person_dict"
   ]
  },
  {
   "cell_type": "code",
   "execution_count": 66,
   "id": "08029d4c",
   "metadata": {},
   "outputs": [],
   "source": [
    "person_dict['hobbies'] = ['coding']"
   ]
  },
  {
   "cell_type": "code",
   "execution_count": 67,
   "id": "0b3811aa",
   "metadata": {},
   "outputs": [
    {
     "data": {
      "text/plain": [
       "{'name': 'Tyler', 'age': 39, 'is_admin': True, 'hobbies': ['coding']}"
      ]
     },
     "execution_count": 67,
     "metadata": {},
     "output_type": "execute_result"
    }
   ],
   "source": [
    "person_dict"
   ]
  },
  {
   "cell_type": "code",
   "execution_count": 71,
   "id": "7bf8ce81",
   "metadata": {},
   "outputs": [],
   "source": [
    "person_dict['hobbies'].insert(0,'sleeping')"
   ]
  },
  {
   "cell_type": "code",
   "execution_count": 72,
   "id": "7a774277",
   "metadata": {},
   "outputs": [
    {
     "data": {
      "text/plain": [
       "{'name': 'Tyler',\n",
       " 'age': 39,\n",
       " 'is_admin': True,\n",
       " 'hobbies': ['sleeping', 'coding', 'sleeping']}"
      ]
     },
     "execution_count": 72,
     "metadata": {},
     "output_type": "execute_result"
    }
   ],
   "source": [
    "person_dict"
   ]
  },
  {
   "cell_type": "code",
   "execution_count": 73,
   "id": "28c40b74",
   "metadata": {},
   "outputs": [],
   "source": [
    "person_dict['ssn'] = 234567890"
   ]
  },
  {
   "cell_type": "code",
   "execution_count": 74,
   "id": "2eda4f0f",
   "metadata": {},
   "outputs": [
    {
     "data": {
      "text/plain": [
       "{'name': 'Tyler',\n",
       " 'age': 39,\n",
       " 'is_admin': True,\n",
       " 'hobbies': ['sleeping', 'coding', 'sleeping'],\n",
       " 'ssn': 234567890}"
      ]
     },
     "execution_count": 74,
     "metadata": {},
     "output_type": "execute_result"
    }
   ],
   "source": [
    "person_dict"
   ]
  },
  {
   "cell_type": "code",
   "execution_count": null,
   "id": "a9b74304",
   "metadata": {},
   "outputs": [],
   "source": []
  },
  {
   "cell_type": "markdown",
   "id": "7604c8c9",
   "metadata": {},
   "source": [
    "## Lists of Dictionaries"
   ]
  },
  {
   "cell_type": "code",
   "execution_count": 96,
   "id": "cc366db8",
   "metadata": {},
   "outputs": [
    {
     "data": {
      "text/plain": [
       "25"
      ]
     },
     "execution_count": 96,
     "metadata": {},
     "output_type": "execute_result"
    }
   ],
   "source": [
    "person_list = [\n",
    "{'name': 'Joan', 'age': 21, 'is_admin': True},\n",
    "{'name': 'Gary', 'age': 25, 'is_admin': False},\n",
    "{'name': 'Malo', 'age': 21, 'is_admin': True}\n",
    "]\n",
    "person_list[1][\"age\"]"
   ]
  },
  {
   "cell_type": "code",
   "execution_count": 116,
   "id": "7dbda8c6",
   "metadata": {},
   "outputs": [
    {
     "name": "stdout",
     "output_type": "stream",
     "text": [
      "23\n",
      "27\n",
      "23\n"
     ]
    }
   ],
   "source": [
    "for person in person_list:\n",
    "    person['age'] += 1\n",
    "    person['hobbies'] = []\n",
    "    print(person['age'])"
   ]
  },
  {
   "cell_type": "code",
   "execution_count": 117,
   "id": "46af8e69",
   "metadata": {},
   "outputs": [
    {
     "name": "stdout",
     "output_type": "stream",
     "text": [
      "{'name': 'Joan', 'age': 23, 'is_admin': True, 'hobbies': []}\n",
      "{'name': 'Gary', 'age': 27, 'is_admin': False, 'hobbies': []}\n",
      "{'name': 'Malo', 'age': 23, 'is_admin': True, 'hobbies': []}\n"
     ]
    }
   ],
   "source": [
    "for person in person_list:\n",
    "    print(person)"
   ]
  },
  {
   "cell_type": "code",
   "execution_count": 118,
   "id": "89c6301a",
   "metadata": {},
   "outputs": [],
   "source": [
    "person_list[0]['age'] += 1"
   ]
  },
  {
   "cell_type": "code",
   "execution_count": 119,
   "id": "66fa69f7",
   "metadata": {},
   "outputs": [
    {
     "data": {
      "text/plain": [
       "'Joan'"
      ]
     },
     "execution_count": 119,
     "metadata": {},
     "output_type": "execute_result"
    }
   ],
   "source": [
    "person_list[0]['name']"
   ]
  },
  {
   "cell_type": "code",
   "execution_count": 107,
   "id": "d676a6df",
   "metadata": {},
   "outputs": [],
   "source": [
    "numbers = [[1,2,3],[4,5]]"
   ]
  },
  {
   "cell_type": "code",
   "execution_count": 110,
   "id": "69b79a97",
   "metadata": {},
   "outputs": [
    {
     "name": "stdout",
     "output_type": "stream",
     "text": [
      "2\n",
      "5\n"
     ]
    }
   ],
   "source": [
    "for number in numbers:\n",
    "    print(number[1])"
   ]
  },
  {
   "cell_type": "code",
   "execution_count": null,
   "id": "e15446ff",
   "metadata": {},
   "outputs": [],
   "source": []
  },
  {
   "cell_type": "code",
   "execution_count": null,
   "id": "776bfb4e",
   "metadata": {},
   "outputs": [],
   "source": []
  },
  {
   "cell_type": "code",
   "execution_count": null,
   "id": "135bda68",
   "metadata": {},
   "outputs": [],
   "source": []
  },
  {
   "cell_type": "code",
   "execution_count": 86,
   "id": "448b220a",
   "metadata": {},
   "outputs": [],
   "source": [
    "name = \"Dan\""
   ]
  },
  {
   "cell_type": "code",
   "execution_count": 87,
   "id": "0ef955f4",
   "metadata": {},
   "outputs": [
    {
     "name": "stdout",
     "output_type": "stream",
     "text": [
      "the name is Dan\n",
      "Dan is the man!!!\n"
     ]
    }
   ],
   "source": [
    "\n",
    "if name == \"Mike\":\n",
    "    print(\"the condition is met!\")\n",
    "elif name == \"Dan\":\n",
    "    print(f\"the name is {name}\")\n",
    "    print(f\"{name} is the man!!!\")\n",
    "else:\n",
    "    print(\"that's not the name\")\n",
    "    "
   ]
  },
  {
   "cell_type": "code",
   "execution_count": null,
   "id": "93b65101",
   "metadata": {},
   "outputs": [],
   "source": [
    "condition = False\n",
    "if condition:\n",
    "  print(\"the condition is met!\")\n",
    "else:\n",
    "  print(\"the condition is NOT met!\")"
   ]
  },
  {
   "cell_type": "code",
   "execution_count": null,
   "id": "ab42a6a3",
   "metadata": {},
   "outputs": [],
   "source": [
    "condition = True\n",
    "if condition:\n",
    "  print(\"the condition is met!\")\n",
    "else:\n",
    "  print(\"the condition is NOT met!\")\n",
    "print(\"This is outside the code block!!!\")"
   ]
  },
  {
   "cell_type": "code",
   "execution_count": null,
   "id": "e0245610",
   "metadata": {},
   "outputs": [],
   "source": [
    "condition = False\n",
    "conditionTwo = True\n",
    "if condition:\n",
    "  print(\"the condition is met!\")\n",
    "elif conditionTwo:\n",
    "  print(\"the second condition is met!\")\n",
    "else:\n",
    "  print(\"the condition is NOT met!\")\n",
    "print(\"This is outside the code block!!!\")"
   ]
  },
  {
   "cell_type": "markdown",
   "id": "f317c0a4",
   "metadata": {},
   "source": [
    "## loops\n",
    "\n",
    "- `for`\n",
    "- `while`"
   ]
  },
  {
   "cell_type": "markdown",
   "id": "73f819ef",
   "metadata": {},
   "source": [
    "### `for`\n",
    "1. can be used to do something a certain number of times\n",
    "1.  can be used to iterate over a data structure"
   ]
  },
  {
   "cell_type": "code",
   "execution_count": 88,
   "id": "5b3679a4",
   "metadata": {},
   "outputs": [
    {
     "name": "stdout",
     "output_type": "stream",
     "text": [
      "0 I've done this 0 times!!\n",
      "1 I've done this 1 times!!\n",
      "2 I've done this 2 times!!\n",
      "3 I've done this 3 times!!\n",
      "4 I've done this 4 times!!\n",
      "5 I've done this 5 times!!\n",
      "6 I've done this 6 times!!\n",
      "7 I've done this 7 times!!\n",
      "8 I've done this 8 times!!\n",
      "9 I've done this 9 times!!\n",
      "10 I've done this 10 times!!\n",
      "11 I've done this 11 times!!\n",
      "12 I've done this 12 times!!\n",
      "13 I've done this 13 times!!\n",
      "14 I've done this 14 times!!\n",
      "15 I've done this 15 times!!\n",
      "16 I've done this 16 times!!\n",
      "17 I've done this 17 times!!\n",
      "18 I've done this 18 times!!\n",
      "19 I've done this 19 times!!\n",
      "20 I've done this 20 times!!\n",
      "21 I've done this 21 times!!\n",
      "22 I've done this 22 times!!\n",
      "23 I've done this 23 times!!\n",
      "24 I've done this 24 times!!\n",
      "25 I've done this 25 times!!\n",
      "26 I've done this 26 times!!\n",
      "27 I've done this 27 times!!\n",
      "28 I've done this 28 times!!\n",
      "29 I've done this 29 times!!\n",
      "30 I've done this 30 times!!\n",
      "31 I've done this 31 times!!\n",
      "32 I've done this 32 times!!\n",
      "33 I've done this 33 times!!\n",
      "34 I've done this 34 times!!\n",
      "35 I've done this 35 times!!\n",
      "36 I've done this 36 times!!\n",
      "37 I've done this 37 times!!\n",
      "38 I've done this 38 times!!\n",
      "39 I've done this 39 times!!\n"
     ]
    }
   ],
   "source": [
    "#1\n",
    "\n",
    "for i in range(40):\n",
    "    print(i, f\"I've done this {i} times!!\")"
   ]
  },
  {
   "cell_type": "code",
   "execution_count": null,
   "id": "c3d7ad46",
   "metadata": {},
   "outputs": [],
   "source": [
    "# all odd ints 1 to 255"
   ]
  },
  {
   "cell_type": "code",
   "execution_count": 89,
   "id": "3c28d2b0",
   "metadata": {},
   "outputs": [
    {
     "name": "stdout",
     "output_type": "stream",
     "text": [
      "1\n",
      "3\n",
      "5\n",
      "7\n",
      "9\n",
      "11\n",
      "13\n",
      "15\n",
      "17\n",
      "19\n",
      "21\n",
      "23\n",
      "25\n",
      "27\n",
      "29\n",
      "31\n",
      "33\n",
      "35\n",
      "37\n",
      "39\n",
      "41\n",
      "43\n",
      "45\n",
      "47\n",
      "49\n",
      "51\n",
      "53\n",
      "55\n",
      "57\n",
      "59\n",
      "61\n",
      "63\n",
      "65\n",
      "67\n",
      "69\n",
      "71\n",
      "73\n",
      "75\n",
      "77\n",
      "79\n",
      "81\n",
      "83\n",
      "85\n",
      "87\n",
      "89\n",
      "91\n",
      "93\n",
      "95\n",
      "97\n",
      "99\n",
      "101\n",
      "103\n",
      "105\n",
      "107\n",
      "109\n",
      "111\n",
      "113\n",
      "115\n",
      "117\n",
      "119\n",
      "121\n",
      "123\n",
      "125\n",
      "127\n",
      "129\n",
      "131\n",
      "133\n",
      "135\n",
      "137\n",
      "139\n",
      "141\n",
      "143\n",
      "145\n",
      "147\n",
      "149\n",
      "151\n",
      "153\n",
      "155\n",
      "157\n",
      "159\n",
      "161\n",
      "163\n",
      "165\n",
      "167\n",
      "169\n",
      "171\n",
      "173\n",
      "175\n",
      "177\n",
      "179\n",
      "181\n",
      "183\n",
      "185\n",
      "187\n",
      "189\n",
      "191\n",
      "193\n",
      "195\n",
      "197\n",
      "199\n",
      "201\n",
      "203\n",
      "205\n",
      "207\n",
      "209\n",
      "211\n",
      "213\n",
      "215\n",
      "217\n",
      "219\n",
      "221\n",
      "223\n",
      "225\n",
      "227\n",
      "229\n",
      "231\n",
      "233\n",
      "235\n",
      "237\n",
      "239\n",
      "241\n",
      "243\n",
      "245\n",
      "247\n",
      "249\n",
      "251\n",
      "253\n",
      "255\n"
     ]
    }
   ],
   "source": [
    "for i in range(1, 256, 2):\n",
    "    print(i)"
   ]
  },
  {
   "cell_type": "code",
   "execution_count": 1,
   "id": "18050bd9",
   "metadata": {},
   "outputs": [],
   "source": [
    "def my_fuct():\n",
    "    print(\"hello world\")"
   ]
  },
  {
   "cell_type": "code",
   "execution_count": 2,
   "id": "4c8cfd45",
   "metadata": {},
   "outputs": [
    {
     "name": "stdout",
     "output_type": "stream",
     "text": [
      "hello world\n"
     ]
    }
   ],
   "source": [
    "my_fuct()"
   ]
  },
  {
   "cell_type": "code",
   "execution_count": 7,
   "id": "366c0e31",
   "metadata": {},
   "outputs": [],
   "source": [
    "def say_hello():\n",
    "    print(f\"Hello\")"
   ]
  },
  {
   "cell_type": "code",
   "execution_count": 8,
   "id": "0371c0ec",
   "metadata": {},
   "outputs": [
    {
     "ename": "TypeError",
     "evalue": "say_hello() takes 0 positional arguments but 1 was given",
     "output_type": "error",
     "traceback": [
      "\u001b[1;31m---------------------------------------------------------------------------\u001b[0m",
      "\u001b[1;31mTypeError\u001b[0m                                 Traceback (most recent call last)",
      "Input \u001b[1;32mIn [8]\u001b[0m, in \u001b[0;36m<cell line: 1>\u001b[1;34m()\u001b[0m\n\u001b[1;32m----> 1\u001b[0m \u001b[43msay_hello\u001b[49m\u001b[43m(\u001b[49m\u001b[38;5;124;43m\"\u001b[39;49m\u001b[38;5;124;43mruben\u001b[39;49m\u001b[38;5;124;43m\"\u001b[39;49m\u001b[43m)\u001b[49m\n",
      "\u001b[1;31mTypeError\u001b[0m: say_hello() takes 0 positional arguments but 1 was given"
     ]
    }
   ],
   "source": [
    "say_hello(\"ruben\")"
   ]
  },
  {
   "cell_type": "code",
   "execution_count": 6,
   "id": "deebd4e9",
   "metadata": {},
   "outputs": [
    {
     "name": "stdout",
     "output_type": "stream",
     "text": [
      "Hello keithin\n"
     ]
    }
   ],
   "source": [
    "say_hello(\"keithin\")"
   ]
  },
  {
   "cell_type": "code",
   "execution_count": null,
   "id": "4768bd91",
   "metadata": {},
   "outputs": [],
   "source": []
  },
  {
   "cell_type": "code",
   "execution_count": 12,
   "id": "2c3484cc",
   "metadata": {},
   "outputs": [],
   "source": [
    "def say_hello1(name=\"programmer\", language=\"Python\"):\n",
    "  print(f\"Hello, {name}! Welcome to {language}.\")"
   ]
  },
  {
   "cell_type": "code",
   "execution_count": 14,
   "id": "b8d49e25",
   "metadata": {},
   "outputs": [
    {
     "name": "stdout",
     "output_type": "stream",
     "text": [
      "Hello, ! Welcome to Python.\n"
     ]
    }
   ],
   "source": [
    "say_hello1()"
   ]
  },
  {
   "cell_type": "code",
   "execution_count": 15,
   "id": "1df0b762",
   "metadata": {},
   "outputs": [
    {
     "name": "stdout",
     "output_type": "stream",
     "text": [
      "Hello, Matthew! Welcome to Python.\n"
     ]
    }
   ],
   "source": [
    "say_hello1(\"Matthew\")"
   ]
  },
  {
   "cell_type": "code",
   "execution_count": null,
   "id": "582b5686",
   "metadata": {},
   "outputs": [],
   "source": []
  },
  {
   "cell_type": "code",
   "execution_count": null,
   "id": "32b6e733",
   "metadata": {},
   "outputs": [],
   "source": []
  },
  {
   "cell_type": "code",
   "execution_count": null,
   "id": "19449571",
   "metadata": {},
   "outputs": [],
   "source": []
  },
  {
   "cell_type": "code",
   "execution_count": null,
   "id": "d23af80e",
   "metadata": {},
   "outputs": [],
   "source": []
  },
  {
   "cell_type": "code",
   "execution_count": null,
   "id": "86245c57",
   "metadata": {},
   "outputs": [],
   "source": []
  },
  {
   "cell_type": "markdown",
   "id": "3d548cfa",
   "metadata": {},
   "source": [
    "## Challenge: Print the sum of all integers from 0 to some number n."
   ]
  },
  {
   "cell_type": "code",
   "execution_count": null,
   "id": "49528d6b",
   "metadata": {},
   "outputs": [],
   "source": [
    "def print_ints_to_n(n):\n",
    "    pass"
   ]
  },
  {
   "cell_type": "code",
   "execution_count": null,
   "id": "3b8f71a6",
   "metadata": {},
   "outputs": [],
   "source": []
  }
 ],
 "metadata": {
  "kernelspec": {
   "display_name": "Python 3 (ipykernel)",
   "language": "python",
   "name": "python3"
  },
  "language_info": {
   "codemirror_mode": {
    "name": "ipython",
    "version": 3
   },
   "file_extension": ".py",
   "mimetype": "text/x-python",
   "name": "python",
   "nbconvert_exporter": "python",
   "pygments_lexer": "ipython3",
   "version": "3.10.2"
  },
  "vscode": {
   "interpreter": {
    "hash": "b7e99664f29507c66851b6189dd7467319d2fd47b181a28d6f5cf7e8ffa5cb19"
   }
  }
 },
 "nbformat": 4,
 "nbformat_minor": 5
}
