{
 "cells": [
  {
   "cell_type": "markdown",
   "id": "6552f6fb",
   "metadata": {},
   "source": [
    "# Basic Python\n",
    "## math and logic"
   ]
  },
  {
   "cell_type": "code",
   "execution_count": null,
   "id": "015a9fcd",
   "metadata": {},
   "outputs": [],
   "source": [
    "2+2"
   ]
  },
  {
   "cell_type": "code",
   "execution_count": null,
   "id": "4eb593d8",
   "metadata": {},
   "outputs": [],
   "source": [
    "5/4"
   ]
  },
  {
   "cell_type": "code",
   "execution_count": null,
   "id": "45ab9c41",
   "metadata": {},
   "outputs": [],
   "source": [
    "5//4"
   ]
  },
  {
   "cell_type": "code",
   "execution_count": null,
   "id": "0ee2a296",
   "metadata": {},
   "outputs": [],
   "source": [
    "5 % 4"
   ]
  },
  {
   "cell_type": "code",
   "execution_count": null,
   "id": "e691b554",
   "metadata": {},
   "outputs": [],
   "source": [
    "6 * 7"
   ]
  },
  {
   "cell_type": "code",
   "execution_count": null,
   "id": "9b74962b",
   "metadata": {},
   "outputs": [],
   "source": [
    "75 % 5"
   ]
  },
  {
   "cell_type": "markdown",
   "id": "fe562328",
   "metadata": {},
   "source": [
    "### Logic\n"
   ]
  },
  {
   "cell_type": "code",
   "execution_count": null,
   "id": "78466b88",
   "metadata": {},
   "outputs": [],
   "source": [
    "True"
   ]
  },
  {
   "cell_type": "code",
   "execution_count": null,
   "id": "b926cb4c",
   "metadata": {},
   "outputs": [],
   "source": [
    "not True"
   ]
  },
  {
   "cell_type": "code",
   "execution_count": null,
   "id": "7995a044",
   "metadata": {},
   "outputs": [],
   "source": [
    "True and True"
   ]
  },
  {
   "cell_type": "code",
   "execution_count": null,
   "id": "0b2ed619",
   "metadata": {},
   "outputs": [],
   "source": [
    "False and True"
   ]
  },
  {
   "cell_type": "code",
   "execution_count": null,
   "id": "f44afecd",
   "metadata": {},
   "outputs": [],
   "source": [
    "True or False"
   ]
  },
  {
   "cell_type": "markdown",
   "id": "fdb7d7cb",
   "metadata": {},
   "source": [
    "# Lecture Examples"
   ]
  },
  {
   "cell_type": "markdown",
   "id": "c440e1cd",
   "metadata": {},
   "source": [
    "## Data Types"
   ]
  },
  {
   "cell_type": "markdown",
   "id": "7bf1aa08",
   "metadata": {},
   "source": [
    "### primative"
   ]
  },
  {
   "cell_type": "code",
   "execution_count": null,
   "id": "cba86036",
   "metadata": {},
   "outputs": [],
   "source": [
    "#### numbers"
   ]
  },
  {
   "cell_type": "code",
   "execution_count": null,
   "id": "98cd3e94",
   "metadata": {},
   "outputs": [],
   "source": [
    "int_number = 42\n",
    "int_number.__class__"
   ]
  },
  {
   "cell_type": "code",
   "execution_count": null,
   "id": "73d9bdd9",
   "metadata": {},
   "outputs": [],
   "source": [
    "float_number = 3.14\n",
    "float_number.__class__"
   ]
  },
  {
   "cell_type": "code",
   "execution_count": null,
   "id": "ecd04b1f",
   "metadata": {},
   "outputs": [],
   "source": [
    "is_logged_in = True\n",
    "is_logged_in.__class__"
   ]
  },
  {
   "cell_type": "code",
   "execution_count": null,
   "id": "cd93adeb",
   "metadata": {},
   "outputs": [],
   "source": [
    "checking_balance = None\n",
    "checking_balance.__class__"
   ]
  },
  {
   "cell_type": "code",
   "execution_count": null,
   "id": "327e9dc8",
   "metadata": {},
   "outputs": [],
   "source": [
    "name = \"Jenny\"\n",
    "name = 'Jenny'\n",
    "# name = \"\"\"\n",
    "# Hey\n",
    "# Jenny, don't change your number\n",
    "# I need to make you mine\n",
    "# Jenny, I call your number\n",
    "# 867-5309\"\"\"\n",
    "name.__class__"
   ]
  },
  {
   "cell_type": "code",
   "execution_count": null,
   "id": "a37d15d2",
   "metadata": {},
   "outputs": [],
   "source": [
    "phone = \"867-5309\"\n",
    "# phone = 8675309\n",
    "phone.__class__"
   ]
  },
  {
   "cell_type": "code",
   "execution_count": null,
   "id": "13892d72",
   "metadata": {},
   "outputs": [],
   "source": [
    "f\"{name}, I got your number: {phone}\""
   ]
  },
  {
   "cell_type": "markdown",
   "id": "b1519c1f",
   "metadata": {},
   "source": [
    "## Composite Types aka Data Structures"
   ]
  },
  {
   "cell_type": "markdown",
   "id": "38ab915c",
   "metadata": {},
   "source": [
    "## Lists aka arrays"
   ]
  },
  {
   "cell_type": "code",
   "execution_count": null,
   "id": "1f996def",
   "metadata": {},
   "outputs": [],
   "source": [
    "fruits = ['apple', 'banana', 'strawberry']"
   ]
  },
  {
   "cell_type": "code",
   "execution_count": null,
   "id": "1255b9f8",
   "metadata": {},
   "outputs": [],
   "source": [
    "person_list = ['Tyler', 39, True]"
   ]
  },
  {
   "cell_type": "markdown",
   "id": "68d4253e",
   "metadata": {},
   "source": [
    "### Dictionaries"
   ]
  },
  {
   "cell_type": "markdown",
   "id": "7d231f91",
   "metadata": {},
   "source": []
  },
  {
   "cell_type": "markdown",
   "id": "7604c8c9",
   "metadata": {},
   "source": [
    "## Lists of Dictionaries"
   ]
  },
  {
   "cell_type": "code",
   "execution_count": 52,
   "id": "cc366db8",
   "metadata": {},
   "outputs": [
    {
     "data": {
      "text/plain": [
       "25"
      ]
     },
     "execution_count": 52,
     "metadata": {},
     "output_type": "execute_result"
    }
   ],
   "source": [
    "person_list = [\n",
    "{'name': 'Joan', 'age': 21, 'is_admin': True},\n",
    "{'name': 'Gary', 'age': 25, 'is_admin': False},\n",
    "{'name': 'Malo', 'age': 21, 'is_admin': True}\n",
    "]\n",
    "person_list[1][\"age\"]"
   ]
  },
  {
   "cell_type": "code",
   "execution_count": null,
   "id": "448b220a",
   "metadata": {},
   "outputs": [],
   "source": [
    "for person in person_list:\n",
    "    print(person['age'])"
   ]
  },
  {
   "cell_type": "code",
   "execution_count": null,
   "id": "0ef955f4",
   "metadata": {},
   "outputs": [],
   "source": [
    "condition = True\n",
    "if condition:\n",
    "  print(\"the condition is met!\")"
   ]
  },
  {
   "cell_type": "code",
   "execution_count": null,
   "id": "93b65101",
   "metadata": {},
   "outputs": [],
   "source": [
    "condition = False\n",
    "if condition:\n",
    "  print(\"the condition is met!\")\n",
    "else:\n",
    "  print(\"the condition is NOT met!\")"
   ]
  },
  {
   "cell_type": "code",
   "execution_count": null,
   "id": "ab42a6a3",
   "metadata": {},
   "outputs": [],
   "source": [
    "condition = True\n",
    "if condition:\n",
    "  print(\"the condition is met!\")\n",
    "else:\n",
    "  print(\"the condition is NOT met!\")\n",
    "print(\"This is outside the code block!!!\")"
   ]
  },
  {
   "cell_type": "code",
   "execution_count": null,
   "id": "e0245610",
   "metadata": {},
   "outputs": [],
   "source": [
    "condition = False\n",
    "conditionTwo = True\n",
    "if condition:\n",
    "  print(\"the condition is met!\")\n",
    "elif conditionTwo:\n",
    "  print(\"the second condition is met!\")\n",
    "else:\n",
    "  print(\"the condition is NOT met!\")\n",
    "print(\"This is outside the code block!!!\")"
   ]
  },
  {
   "cell_type": "markdown",
   "id": "f317c0a4",
   "metadata": {},
   "source": [
    "## loops\n",
    "\n",
    "- `for`\n",
    "- `while`"
   ]
  },
  {
   "cell_type": "markdown",
   "id": "73f819ef",
   "metadata": {},
   "source": [
    "### `for`\n",
    "1. can be used to do something a certain number of times\n",
    "1.  can be used to iterate over a data structure"
   ]
  },
  {
   "cell_type": "code",
   "execution_count": null,
   "id": "5b3679a4",
   "metadata": {},
   "outputs": [],
   "source": [
    "#1\n",
    "\n",
    "for i in range(40):\n",
    "    print(i, f\"I've done this {i} times!!\")"
   ]
  },
  {
   "cell_type": "markdown",
   "id": "bb1c6640",
   "metadata": {},
   "source": []
  },
  {
   "cell_type": "code",
   "execution_count": 5,
   "id": "49528d6b",
   "metadata": {},
   "outputs": [],
   "source": [
    "def print_ints_to_n(n):\n",
    "    pass"
   ]
  },
  {
   "cell_type": "code",
   "execution_count": null,
   "id": "3b8f71a6",
   "metadata": {},
   "outputs": [],
   "source": []
  }
 ],
 "metadata": {
  "kernelspec": {
   "display_name": "Python 3 (ipykernel)",
   "language": "python",
   "name": "python3"
  },
  "language_info": {
   "codemirror_mode": {
    "name": "ipython",
    "version": 3
   },
   "file_extension": ".py",
   "mimetype": "text/x-python",
   "name": "python",
   "nbconvert_exporter": "python",
   "pygments_lexer": "ipython3",
   "version": "3.10.2"
  },
  "vscode": {
   "interpreter": {
    "hash": "916dbcbb3f70747c44a77c7bcd40155683ae19c65e1c03b4aa3499c5328201f1"
   }
  }
 },
 "nbformat": 4,
 "nbformat_minor": 5
}
